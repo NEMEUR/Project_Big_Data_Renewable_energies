{
 "cells": [
  {
   "cell_type": "markdown",
   "metadata": {},
   "source": [
    "# Solar energy - Predictions for one year with machine learning"
   ]
  },
  {
   "cell_type": "code",
   "execution_count": 1,
   "metadata": {},
   "outputs": [],
   "source": [
    "import numpy as np\n",
    "import pandas as pd\n",
    "from scipy import stats\n",
    "import seaborn as sns\n",
    "import matplotlib.pyplot as plt\n",
    "\n",
    "pd.options.display.max_columns = 300\n",
    "\n",
    "import warnings\n",
    "warnings.filterwarnings(\"ignore\")"
   ]
  },
  {
   "cell_type": "markdown",
   "metadata": {},
   "source": [
    "Load data and keep only energy efficiency for france"
   ]
  },
  {
   "cell_type": "code",
   "execution_count": 2,
   "metadata": {},
   "outputs": [
    {
     "data": {
      "text/plain": [
       "0    0.0\n",
       "1    0.0\n",
       "Name: FR, dtype: float64"
      ]
     },
     "execution_count": 2,
     "metadata": {},
     "output_type": "execute_result"
    }
   ],
   "source": [
    "path = \"../../../datasets/_classified/kaggle/\"\n",
    "df = pd.read_csv(path + \"solar_generation_by_country.csv\")\n",
    "\n",
    "# keeping only values for one country for the predictions\n",
    "df = df['FR']\n",
    "df.head(2)"
   ]
  },
  {
   "cell_type": "markdown",
   "metadata": {},
   "source": [
    "Add infos relative to date time : month, week, day & hour"
   ]
  },
  {
   "cell_type": "code",
   "execution_count": 3,
   "metadata": {},
   "outputs": [],
   "source": [
    "def add_date_time(_df):\n",
    "    \"Returns a DF with two new cols : the time and hour of the day\"\n",
    "    t = pd.date_range(start='1/1/1986', periods=_df.shape[0], freq = 'H')\n",
    "    t = pd.DataFrame(t)\n",
    "    _df = pd.concat([_df, t], axis=1)\n",
    "    _df.rename(columns={ _df.columns[-1]: \"time\" }, inplace = True)\n",
    "    _df['month'] = _df['time'].dt.month\n",
    "    _df['week'] = _df['time'].dt.weekofyear\n",
    "    _df['day'] = _df['time'].dt.dayofyear    \n",
    "    _df['hour'] = _df['time'].dt.hour\n",
    "    return _df"
   ]
  },
  {
   "cell_type": "code",
   "execution_count": 4,
   "metadata": {},
   "outputs": [
    {
     "data": {
      "text/html": [
       "<div>\n",
       "<style scoped>\n",
       "    .dataframe tbody tr th:only-of-type {\n",
       "        vertical-align: middle;\n",
       "    }\n",
       "\n",
       "    .dataframe tbody tr th {\n",
       "        vertical-align: top;\n",
       "    }\n",
       "\n",
       "    .dataframe thead th {\n",
       "        text-align: right;\n",
       "    }\n",
       "</style>\n",
       "<table border=\"1\" class=\"dataframe\">\n",
       "  <thead>\n",
       "    <tr style=\"text-align: right;\">\n",
       "      <th></th>\n",
       "      <th>FR</th>\n",
       "      <th>time</th>\n",
       "      <th>month</th>\n",
       "      <th>week</th>\n",
       "      <th>day</th>\n",
       "      <th>hour</th>\n",
       "    </tr>\n",
       "  </thead>\n",
       "  <tbody>\n",
       "    <tr>\n",
       "      <td>262966</td>\n",
       "      <td>0.0</td>\n",
       "      <td>2015-12-31 22:00:00</td>\n",
       "      <td>12</td>\n",
       "      <td>53</td>\n",
       "      <td>365</td>\n",
       "      <td>22</td>\n",
       "    </tr>\n",
       "    <tr>\n",
       "      <td>262967</td>\n",
       "      <td>0.0</td>\n",
       "      <td>2015-12-31 23:00:00</td>\n",
       "      <td>12</td>\n",
       "      <td>53</td>\n",
       "      <td>365</td>\n",
       "      <td>23</td>\n",
       "    </tr>\n",
       "  </tbody>\n",
       "</table>\n",
       "</div>"
      ],
      "text/plain": [
       "         FR                time  month  week  day  hour\n",
       "262966  0.0 2015-12-31 22:00:00     12    53  365    22\n",
       "262967  0.0 2015-12-31 23:00:00     12    53  365    23"
      ]
     },
     "execution_count": 4,
     "metadata": {},
     "output_type": "execute_result"
    }
   ],
   "source": [
    "df = add_date_time(df)\n",
    "df.tail(2)"
   ]
  },
  {
   "cell_type": "markdown",
   "metadata": {},
   "source": [
    "# Model Training"
   ]
  },
  {
   "cell_type": "markdown",
   "metadata": {},
   "source": [
    "## metric\n",
    "\n",
    "As previously seen during the exploratory data analysis, the dataset is clean : there isn't any outlier, any duplicated line ou missing values. The Root Mean Squared Error is therefore the best metric.\n",
    "\n",
    "We'll try several models of regression to make prediction of the energy efficiency. In order to find which model is the best we'll compare:\n",
    "- results between predictions on the train & test datasets: how will models be able to generalize ?\n",
    "- reuslts between various models"
   ]
  },
  {
   "cell_type": "code",
   "execution_count": 5,
   "metadata": {},
   "outputs": [],
   "source": [
    "from sklearn.metrics import mean_squared_error\n",
    "model_instances, model_names, rmse_train, rmse_test = [], [], [], []\n",
    "\n",
    "# from sklearn.model_selection import train_test_split\n",
    "\n",
    "def plot_scores():\n",
    "    df_score = pd.DataFrame({'model_names' : model_names,\n",
    "                             'rmse_train' : rmse_train,\n",
    "                             'rmse_test' : rmse_test})\n",
    "    df_score = pd.melt(df_score, id_vars=['model_names'], value_vars=['rmse_train', 'rmse_test'])\n",
    "\n",
    "    plt.figure(figsize=(12, 10))\n",
    "    sns.barplot(y=\"model_names\", x=\"value\", hue=\"variable\", data=df_score)\n",
    "    plt.show()"
   ]
  },
  {
   "cell_type": "markdown",
   "metadata": {},
   "source": [
    "## baseline\n",
    "\n",
    "use the hourly mean of 30 years of records for a specific day "
   ]
  },
  {
   "cell_type": "code",
   "execution_count": 6,
   "metadata": {},
   "outputs": [],
   "source": [
    "train_data = df[:-24*365]\n",
    "test_data = df[-24*365:]"
   ]
  },
  {
   "cell_type": "code",
   "execution_count": 7,
   "metadata": {},
   "outputs": [],
   "source": [
    "x_train, y_train = train_data.drop(columns=['time']), train_data['FR']\n",
    "x_test, y_test = test_data.drop(columns=['time']), test_data['FR']"
   ]
  },
  {
   "cell_type": "code",
   "execution_count": 8,
   "metadata": {},
   "outputs": [],
   "source": [
    "def mean_df(d, h):\n",
    "    \"return the hourly mean of a specific day of the year\"\n",
    "    res = x_train[(x_train['day'] == d) & (x_train['hour'] == h)]['FR'].mean()\n",
    "    return res\n",
    "\n",
    "    # examples \n",
    "    #df['col_3'] = df.apply(lambda x: f(x.col_1, x.col_2), axis=1)\n",
    "    # x_train[(x_train['day'] == x['day']) & (x_train['hour'] == x['hour'])]['FR'].mean()"
   ]
  },
  {
   "cell_type": "code",
   "execution_count": 9,
   "metadata": {},
   "outputs": [],
   "source": [
    "#x_train['pred'] = x_train.apply(lambda x: mean_df(x.day, x.hour), axis=1)\n",
    "x_test['pred'] = x_test.apply(lambda x: mean_df(x.day, x.hour), axis=1)"
   ]
  },
  {
   "cell_type": "code",
   "execution_count": 10,
   "metadata": {},
   "outputs": [
    {
     "data": {
      "text/html": [
       "<div>\n",
       "<style scoped>\n",
       "    .dataframe tbody tr th:only-of-type {\n",
       "        vertical-align: middle;\n",
       "    }\n",
       "\n",
       "    .dataframe tbody tr th {\n",
       "        vertical-align: top;\n",
       "    }\n",
       "\n",
       "    .dataframe thead th {\n",
       "        text-align: right;\n",
       "    }\n",
       "</style>\n",
       "<table border=\"1\" class=\"dataframe\">\n",
       "  <thead>\n",
       "    <tr style=\"text-align: right;\">\n",
       "      <th></th>\n",
       "      <th>FR</th>\n",
       "      <th>month</th>\n",
       "      <th>week</th>\n",
       "      <th>day</th>\n",
       "      <th>hour</th>\n",
       "      <th>pred</th>\n",
       "    </tr>\n",
       "  </thead>\n",
       "  <tbody>\n",
       "    <tr>\n",
       "      <td>254208</td>\n",
       "      <td>0.0</td>\n",
       "      <td>1</td>\n",
       "      <td>1</td>\n",
       "      <td>1</td>\n",
       "      <td>0</td>\n",
       "      <td>0.0</td>\n",
       "    </tr>\n",
       "    <tr>\n",
       "      <td>254209</td>\n",
       "      <td>0.0</td>\n",
       "      <td>1</td>\n",
       "      <td>1</td>\n",
       "      <td>1</td>\n",
       "      <td>1</td>\n",
       "      <td>0.0</td>\n",
       "    </tr>\n",
       "    <tr>\n",
       "      <td>254210</td>\n",
       "      <td>0.0</td>\n",
       "      <td>1</td>\n",
       "      <td>1</td>\n",
       "      <td>1</td>\n",
       "      <td>2</td>\n",
       "      <td>0.0</td>\n",
       "    </tr>\n",
       "    <tr>\n",
       "      <td>254211</td>\n",
       "      <td>0.0</td>\n",
       "      <td>1</td>\n",
       "      <td>1</td>\n",
       "      <td>1</td>\n",
       "      <td>3</td>\n",
       "      <td>0.0</td>\n",
       "    </tr>\n",
       "    <tr>\n",
       "      <td>254212</td>\n",
       "      <td>0.0</td>\n",
       "      <td>1</td>\n",
       "      <td>1</td>\n",
       "      <td>1</td>\n",
       "      <td>4</td>\n",
       "      <td>0.0</td>\n",
       "    </tr>\n",
       "  </tbody>\n",
       "</table>\n",
       "</div>"
      ],
      "text/plain": [
       "         FR  month  week  day  hour  pred\n",
       "254208  0.0      1     1    1     0   0.0\n",
       "254209  0.0      1     1    1     1   0.0\n",
       "254210  0.0      1     1    1     2   0.0\n",
       "254211  0.0      1     1    1     3   0.0\n",
       "254212  0.0      1     1    1     4   0.0"
      ]
     },
     "execution_count": 10,
     "metadata": {},
     "output_type": "execute_result"
    }
   ],
   "source": [
    "x_test.head()"
   ]
  },
  {
   "cell_type": "code",
   "execution_count": 11,
   "metadata": {},
   "outputs": [],
   "source": [
    "model_names.append(\"base_line\")\n",
    "rmse_train.append(np.sqrt(mean_squared_error(x_train['FR'], x_train['FR']))) # a modifier en pred\n",
    "rmse_test.append(np.sqrt(mean_squared_error(x_test['FR'], x_test['pred'])))"
   ]
  },
  {
   "cell_type": "markdown",
   "metadata": {},
   "source": [
    "## basic regression models"
   ]
  },
  {
   "cell_type": "code",
   "execution_count": 12,
   "metadata": {},
   "outputs": [],
   "source": [
    "train_data = df[:-24*365]\n",
    "test_data = df[-24*365:]"
   ]
  },
  {
   "cell_type": "code",
   "execution_count": 13,
   "metadata": {},
   "outputs": [
    {
     "data": {
      "text/html": [
       "<div>\n",
       "<style scoped>\n",
       "    .dataframe tbody tr th:only-of-type {\n",
       "        vertical-align: middle;\n",
       "    }\n",
       "\n",
       "    .dataframe tbody tr th {\n",
       "        vertical-align: top;\n",
       "    }\n",
       "\n",
       "    .dataframe thead th {\n",
       "        text-align: right;\n",
       "    }\n",
       "</style>\n",
       "<table border=\"1\" class=\"dataframe\">\n",
       "  <thead>\n",
       "    <tr style=\"text-align: right;\">\n",
       "      <th></th>\n",
       "      <th>FR</th>\n",
       "      <th>time</th>\n",
       "      <th>month</th>\n",
       "      <th>week</th>\n",
       "      <th>day</th>\n",
       "      <th>hour</th>\n",
       "    </tr>\n",
       "  </thead>\n",
       "  <tbody>\n",
       "    <tr>\n",
       "      <td>0</td>\n",
       "      <td>0.0</td>\n",
       "      <td>1986-01-01 00:00:00</td>\n",
       "      <td>1</td>\n",
       "      <td>1</td>\n",
       "      <td>1</td>\n",
       "      <td>0</td>\n",
       "    </tr>\n",
       "    <tr>\n",
       "      <td>1</td>\n",
       "      <td>0.0</td>\n",
       "      <td>1986-01-01 01:00:00</td>\n",
       "      <td>1</td>\n",
       "      <td>1</td>\n",
       "      <td>1</td>\n",
       "      <td>1</td>\n",
       "    </tr>\n",
       "    <tr>\n",
       "      <td>2</td>\n",
       "      <td>0.0</td>\n",
       "      <td>1986-01-01 02:00:00</td>\n",
       "      <td>1</td>\n",
       "      <td>1</td>\n",
       "      <td>1</td>\n",
       "      <td>2</td>\n",
       "    </tr>\n",
       "    <tr>\n",
       "      <td>3</td>\n",
       "      <td>0.0</td>\n",
       "      <td>1986-01-01 03:00:00</td>\n",
       "      <td>1</td>\n",
       "      <td>1</td>\n",
       "      <td>1</td>\n",
       "      <td>3</td>\n",
       "    </tr>\n",
       "    <tr>\n",
       "      <td>4</td>\n",
       "      <td>0.0</td>\n",
       "      <td>1986-01-01 04:00:00</td>\n",
       "      <td>1</td>\n",
       "      <td>1</td>\n",
       "      <td>1</td>\n",
       "      <td>4</td>\n",
       "    </tr>\n",
       "  </tbody>\n",
       "</table>\n",
       "</div>"
      ],
      "text/plain": [
       "    FR                time  month  week  day  hour\n",
       "0  0.0 1986-01-01 00:00:00      1     1    1     0\n",
       "1  0.0 1986-01-01 01:00:00      1     1    1     1\n",
       "2  0.0 1986-01-01 02:00:00      1     1    1     2\n",
       "3  0.0 1986-01-01 03:00:00      1     1    1     3\n",
       "4  0.0 1986-01-01 04:00:00      1     1    1     4"
      ]
     },
     "execution_count": 13,
     "metadata": {},
     "output_type": "execute_result"
    }
   ],
   "source": [
    "train_data.head()"
   ]
  },
  {
   "cell_type": "code",
   "execution_count": 14,
   "metadata": {},
   "outputs": [],
   "source": [
    "X_train, y_train = train_data[['month', 'week', 'day', 'hour']], train_data['FR']\n",
    "X_test, y_test = test_data[['month', 'week', 'day', 'hour']], test_data['FR']"
   ]
  },
  {
   "cell_type": "code",
   "execution_count": 15,
   "metadata": {},
   "outputs": [],
   "source": [
    "from sklearn.svm import LinearSVR\n",
    "from sklearn.neighbors import KNeighborsRegressor\n",
    "from sklearn.linear_model import LinearRegression, Ridge, Lasso, ElasticNet\n",
    "from sklearn.ensemble import RandomForestRegressor, GradientBoostingRegressor, ExtraTreesRegressor\n",
    "\n",
    "import xgboost as xgb\n",
    "import lightgbm as lgbm"
   ]
  },
  {
   "cell_type": "code",
   "execution_count": 16,
   "metadata": {},
   "outputs": [],
   "source": [
    "def get_rmse(reg, model_name):\n",
    "    \"\"\"Print the score for the model passed in argument and retrun scores for the train/test sets\"\"\"\n",
    "    \n",
    "    y_train_pred, y_pred = reg.predict(X_train), reg.predict(X_test)\n",
    "    rmse_train, rmse_test = np.sqrt(mean_squared_error(y_train, y_train_pred)), np.sqrt(mean_squared_error(y_test, y_pred))\n",
    "    print(model_name, f'\\t - RMSE on Training  = {rmse_train:.2f} / RMSE on Test = {rmse_test:.2f}')\n",
    "    \n",
    "    return rmse_train, rmse_test"
   ]
  },
  {
   "cell_type": "code",
   "execution_count": 17,
   "metadata": {},
   "outputs": [
    {
     "name": "stdout",
     "output_type": "stream",
     "text": [
      "base_line \t - RMSE on Training  = 0.18 / RMSE on Test = 0.18\n",
      "LinearRegression \t - RMSE on Training  = 0.18 / RMSE on Test = 0.18\n",
      "Lasso \t - RMSE on Training  = 0.18 / RMSE on Test = 0.18\n",
      "Ridge \t - RMSE on Training  = 0.18 / RMSE on Test = 0.18\n",
      "ElasticNet \t - RMSE on Training  = 0.06 / RMSE on Test = 0.06\n",
      "RandomForestRegressor \t - RMSE on Training  = 0.06 / RMSE on Test = 0.06\n",
      "GradientBoostingRegressor \t - RMSE on Training  = 0.06 / RMSE on Test = 0.06\n",
      "[21:28:10] WARNING: /home/conda/feedstock_root/build_artifacts/xgboost_1572314959925/work/src/objective/regression_obj.cu:152: reg:linear is now deprecated in favor of reg:squarederror.\n",
      "ExtraTreesRegressor \t - RMSE on Training  = 0.06 / RMSE on Test = 0.06\n",
      "XGBRegressor \t - RMSE on Training  = 0.06 / RMSE on Test = 0.06\n"
     ]
    }
   ],
   "source": [
    "# list of all the basic models used at first\n",
    "model_list = [\n",
    "    LinearRegression(), Lasso(), Ridge(), ElasticNet(),\n",
    "    RandomForestRegressor(), GradientBoostingRegressor(), ExtraTreesRegressor(),\n",
    "    xgb.XGBRegressor(), lgbm.LGBMRegressor()\n",
    "             ]\n",
    "\n",
    "# creation of list of names and scores for the train / test\n",
    "model_names.extend([str(m)[:str(m).index('(')] for m in model_list])\n",
    "\n",
    "\n",
    "# fit and predict all models\n",
    "for model, name in zip(model_list, model_names):\n",
    "    model.fit(X_train, y_train)\n",
    "    sc_train, sc_test = get_rmse(model, name)\n",
    "    rmse_train.append(sc_train)\n",
    "    rmse_test.append(sc_test)"
   ]
  },
  {
   "cell_type": "markdown",
   "metadata": {},
   "source": [
    "## same thing with get dummies"
   ]
  },
  {
   "cell_type": "markdown",
   "metadata": {},
   "source": [
    "remove leap year / année bissextile"
   ]
  },
  {
   "cell_type": "code",
   "execution_count": 18,
   "metadata": {},
   "outputs": [],
   "source": [
    "df['year'] = df['time'].dt.year\n",
    "df = df[~df.year.isin([1988, 1992, 1996, 2000, 2004, 2008, 2012, 2016])]"
   ]
  },
  {
   "cell_type": "code",
   "execution_count": 19,
   "metadata": {},
   "outputs": [
    {
     "data": {
      "text/html": [
       "<div>\n",
       "<style scoped>\n",
       "    .dataframe tbody tr th:only-of-type {\n",
       "        vertical-align: middle;\n",
       "    }\n",
       "\n",
       "    .dataframe tbody tr th {\n",
       "        vertical-align: top;\n",
       "    }\n",
       "\n",
       "    .dataframe thead th {\n",
       "        text-align: right;\n",
       "    }\n",
       "</style>\n",
       "<table border=\"1\" class=\"dataframe\">\n",
       "  <thead>\n",
       "    <tr style=\"text-align: right;\">\n",
       "      <th></th>\n",
       "      <th>FR</th>\n",
       "      <th>time</th>\n",
       "      <th>month</th>\n",
       "      <th>week</th>\n",
       "      <th>day</th>\n",
       "      <th>hour</th>\n",
       "      <th>year</th>\n",
       "    </tr>\n",
       "  </thead>\n",
       "  <tbody>\n",
       "    <tr>\n",
       "      <td>0</td>\n",
       "      <td>0.0</td>\n",
       "      <td>1986-01-01 00:00:00</td>\n",
       "      <td>1</td>\n",
       "      <td>1</td>\n",
       "      <td>1</td>\n",
       "      <td>0</td>\n",
       "      <td>1986</td>\n",
       "    </tr>\n",
       "    <tr>\n",
       "      <td>1</td>\n",
       "      <td>0.0</td>\n",
       "      <td>1986-01-01 01:00:00</td>\n",
       "      <td>1</td>\n",
       "      <td>1</td>\n",
       "      <td>1</td>\n",
       "      <td>1</td>\n",
       "      <td>1986</td>\n",
       "    </tr>\n",
       "    <tr>\n",
       "      <td>2</td>\n",
       "      <td>0.0</td>\n",
       "      <td>1986-01-01 02:00:00</td>\n",
       "      <td>1</td>\n",
       "      <td>1</td>\n",
       "      <td>1</td>\n",
       "      <td>2</td>\n",
       "      <td>1986</td>\n",
       "    </tr>\n",
       "    <tr>\n",
       "      <td>3</td>\n",
       "      <td>0.0</td>\n",
       "      <td>1986-01-01 03:00:00</td>\n",
       "      <td>1</td>\n",
       "      <td>1</td>\n",
       "      <td>1</td>\n",
       "      <td>3</td>\n",
       "      <td>1986</td>\n",
       "    </tr>\n",
       "    <tr>\n",
       "      <td>4</td>\n",
       "      <td>0.0</td>\n",
       "      <td>1986-01-01 04:00:00</td>\n",
       "      <td>1</td>\n",
       "      <td>1</td>\n",
       "      <td>1</td>\n",
       "      <td>4</td>\n",
       "      <td>1986</td>\n",
       "    </tr>\n",
       "  </tbody>\n",
       "</table>\n",
       "</div>"
      ],
      "text/plain": [
       "    FR                time  month  week  day  hour  year\n",
       "0  0.0 1986-01-01 00:00:00      1     1    1     0  1986\n",
       "1  0.0 1986-01-01 01:00:00      1     1    1     1  1986\n",
       "2  0.0 1986-01-01 02:00:00      1     1    1     2  1986\n",
       "3  0.0 1986-01-01 03:00:00      1     1    1     3  1986\n",
       "4  0.0 1986-01-01 04:00:00      1     1    1     4  1986"
      ]
     },
     "execution_count": 19,
     "metadata": {},
     "output_type": "execute_result"
    }
   ],
   "source": [
    "df.head()"
   ]
  },
  {
   "cell_type": "code",
   "execution_count": 20,
   "metadata": {},
   "outputs": [],
   "source": [
    "train_data = df[:-24*365]\n",
    "test_data = df[-24*365:]"
   ]
  },
  {
   "cell_type": "code",
   "execution_count": 21,
   "metadata": {},
   "outputs": [],
   "source": [
    "X_train, y_train = train_data[['month', 'week', 'day', 'hour']], train_data['FR']\n",
    "X_test, y_test = test_data[['month', 'week', 'day', 'hour']], test_data['FR']"
   ]
  },
  {
   "cell_type": "code",
   "execution_count": 22,
   "metadata": {},
   "outputs": [
    {
     "data": {
      "text/plain": [
       "254208    0.0\n",
       "254209    0.0\n",
       "254210    0.0\n",
       "254211    0.0\n",
       "254212    0.0\n",
       "Name: FR, dtype: float64"
      ]
     },
     "execution_count": 22,
     "metadata": {},
     "output_type": "execute_result"
    }
   ],
   "source": [
    "y_test.head()"
   ]
  },
  {
   "cell_type": "code",
   "execution_count": 23,
   "metadata": {},
   "outputs": [],
   "source": [
    "X_train = pd.get_dummies(data=X_train, columns=X_train.columns, drop_first=True)\n",
    "X_test = pd.get_dummies(data=X_test, columns=X_test.columns, drop_first=True)"
   ]
  },
  {
   "cell_type": "code",
   "execution_count": 24,
   "metadata": {},
   "outputs": [
    {
     "data": {
      "text/plain": [
       "((192720, 450), (192720,))"
      ]
     },
     "execution_count": 24,
     "metadata": {},
     "output_type": "execute_result"
    }
   ],
   "source": [
    "X_train.shape, y_train.shape"
   ]
  },
  {
   "cell_type": "code",
   "execution_count": 25,
   "metadata": {},
   "outputs": [
    {
     "data": {
      "text/plain": [
       "((8760, 450), (8760,))"
      ]
     },
     "execution_count": 25,
     "metadata": {},
     "output_type": "execute_result"
    }
   ],
   "source": [
    "X_test.shape, y_test.shape"
   ]
  },
  {
   "cell_type": "code",
   "execution_count": 26,
   "metadata": {},
   "outputs": [
    {
     "name": "stdout",
     "output_type": "stream",
     "text": [
      "LinearRegression_dummies \t - RMSE on Training  = 0.07 / RMSE on Test = 0.07\n",
      "Lasso_dummies \t - RMSE on Training  = 0.18 / RMSE on Test = 0.18\n",
      "Ridge_dummies \t - RMSE on Training  = 0.07 / RMSE on Test = 0.07\n",
      "ElasticNet_dummies \t - RMSE on Training  = 0.18 / RMSE on Test = 0.18\n",
      "RandomForestRegressor_dummies \t - RMSE on Training  = 0.06 / RMSE on Test = 0.06\n",
      "GradientBoostingRegressor_dummies \t - RMSE on Training  = 0.08 / RMSE on Test = 0.08\n",
      "ExtraTreesRegressor_dummies \t - RMSE on Training  = 0.06 / RMSE on Test = 0.06\n",
      "[21:35:03] WARNING: /home/conda/feedstock_root/build_artifacts/xgboost_1572314959925/work/src/objective/regression_obj.cu:152: reg:linear is now deprecated in favor of reg:squarederror.\n",
      "XGBRegressor_dummies \t - RMSE on Training  = 0.08 / RMSE on Test = 0.08\n",
      "LGBMRegressor_dummies \t - RMSE on Training  = 0.06 / RMSE on Test = 0.06\n"
     ]
    }
   ],
   "source": [
    "# list of all the basic models used at first\n",
    "model_list = [\n",
    "    LinearRegression(), Lasso(), Ridge(), ElasticNet(),\n",
    "    RandomForestRegressor(), GradientBoostingRegressor(), ExtraTreesRegressor(),\n",
    "    xgb.XGBRegressor(), lgbm.LGBMRegressor()\n",
    "             ]\n",
    "\n",
    "# creation of list of names and scores for the train / test\n",
    "new_model_names = [str(m)[:str(m).index('(')]+\"_dummies\" for m in model_list]\n",
    "model_names.extend(new_model_names)\n",
    "\n",
    "# fit and predict all models\n",
    "for model, name in zip(model_list, new_model_names):\n",
    "    model.fit(X_train, y_train)\n",
    "    sc_train, sc_test = get_rmse(model, name)\n",
    "    rmse_train.append(sc_train)\n",
    "    rmse_test.append(sc_test)"
   ]
  },
  {
   "cell_type": "markdown",
   "metadata": {},
   "source": [
    "## with prophet a facebook lib for time series"
   ]
  },
  {
   "cell_type": "markdown",
   "metadata": {},
   "source": [
    "Prophet follows the sklearn model API. We create an instance of the Prophet class and then call its fit and predict methods.\n",
    "\n",
    "The input to Prophet is always a dataframe with two columns: ds and y. The ds (datestamp) column should be of a format expected by Pandas, ideally YYYY-MM-DD for a date or YYYY-MM-DD HH:MM:SS for a timestamp. The y column must be numeric, and represents the measurement we wish to forecast."
   ]
  },
  {
   "cell_type": "code",
   "execution_count": 28,
   "metadata": {},
   "outputs": [],
   "source": [
    "data = df[['time', 'FR']]\n",
    "data = data.rename(columns={\"time\": \"ds\", \"FR\": \"y\"})\n",
    "train_data = data[:-24*365]\n",
    "test_data = data[-24*365:]"
   ]
  },
  {
   "cell_type": "code",
   "execution_count": 29,
   "metadata": {},
   "outputs": [
    {
     "name": "stderr",
     "output_type": "stream",
     "text": [
      "ERROR:fbprophet:Importing plotly failed. Interactive plots will not work.\n"
     ]
    }
   ],
   "source": [
    "from fbprophet import Prophet\n",
    "\n",
    "prophet_model = Prophet()"
   ]
  },
  {
   "cell_type": "code",
   "execution_count": 30,
   "metadata": {},
   "outputs": [
    {
     "name": "stderr",
     "output_type": "stream",
     "text": [
      "INFO:numexpr.utils:NumExpr defaulting to 8 threads.\n"
     ]
    },
    {
     "data": {
      "text/plain": [
       "<fbprophet.forecaster.Prophet at 0x7fdb94ac9b90>"
      ]
     },
     "execution_count": 30,
     "metadata": {},
     "output_type": "execute_result"
    }
   ],
   "source": [
    "prophet_model.fit(train_data)"
   ]
  },
  {
   "cell_type": "code",
   "execution_count": 31,
   "metadata": {},
   "outputs": [],
   "source": [
    "#y_train_pred = prophet_model.predict(train_data)"
   ]
  },
  {
   "cell_type": "code",
   "execution_count": 32,
   "metadata": {},
   "outputs": [
    {
     "data": {
      "text/html": [
       "<div>\n",
       "<style scoped>\n",
       "    .dataframe tbody tr th:only-of-type {\n",
       "        vertical-align: middle;\n",
       "    }\n",
       "\n",
       "    .dataframe tbody tr th {\n",
       "        vertical-align: top;\n",
       "    }\n",
       "\n",
       "    .dataframe thead th {\n",
       "        text-align: right;\n",
       "    }\n",
       "</style>\n",
       "<table border=\"1\" class=\"dataframe\">\n",
       "  <thead>\n",
       "    <tr style=\"text-align: right;\">\n",
       "      <th></th>\n",
       "      <th>ds</th>\n",
       "    </tr>\n",
       "  </thead>\n",
       "  <tbody>\n",
       "    <tr>\n",
       "      <td>193080</td>\n",
       "      <td>2015-12-27 23:00:00</td>\n",
       "    </tr>\n",
       "    <tr>\n",
       "      <td>193081</td>\n",
       "      <td>2015-12-28 23:00:00</td>\n",
       "    </tr>\n",
       "    <tr>\n",
       "      <td>193082</td>\n",
       "      <td>2015-12-29 23:00:00</td>\n",
       "    </tr>\n",
       "    <tr>\n",
       "      <td>193083</td>\n",
       "      <td>2015-12-30 23:00:00</td>\n",
       "    </tr>\n",
       "    <tr>\n",
       "      <td>193084</td>\n",
       "      <td>2015-12-31 23:00:00</td>\n",
       "    </tr>\n",
       "  </tbody>\n",
       "</table>\n",
       "</div>"
      ],
      "text/plain": [
       "                        ds\n",
       "193080 2015-12-27 23:00:00\n",
       "193081 2015-12-28 23:00:00\n",
       "193082 2015-12-29 23:00:00\n",
       "193083 2015-12-30 23:00:00\n",
       "193084 2015-12-31 23:00:00"
      ]
     },
     "execution_count": 32,
     "metadata": {},
     "output_type": "execute_result"
    }
   ],
   "source": [
    "future = prophet_model.make_future_dataframe(periods=365)\n",
    "future.tail()"
   ]
  },
  {
   "cell_type": "code",
   "execution_count": 33,
   "metadata": {},
   "outputs": [
    {
     "data": {
      "text/html": [
       "<div>\n",
       "<style scoped>\n",
       "    .dataframe tbody tr th:only-of-type {\n",
       "        vertical-align: middle;\n",
       "    }\n",
       "\n",
       "    .dataframe tbody tr th {\n",
       "        vertical-align: top;\n",
       "    }\n",
       "\n",
       "    .dataframe thead th {\n",
       "        text-align: right;\n",
       "    }\n",
       "</style>\n",
       "<table border=\"1\" class=\"dataframe\">\n",
       "  <thead>\n",
       "    <tr style=\"text-align: right;\">\n",
       "      <th></th>\n",
       "      <th>ds</th>\n",
       "      <th>yhat</th>\n",
       "      <th>yhat_lower</th>\n",
       "      <th>yhat_upper</th>\n",
       "    </tr>\n",
       "  </thead>\n",
       "  <tbody>\n",
       "    <tr>\n",
       "      <td>193080</td>\n",
       "      <td>2015-12-27 23:00:00</td>\n",
       "      <td>-0.078166</td>\n",
       "      <td>-0.168568</td>\n",
       "      <td>0.014703</td>\n",
       "    </tr>\n",
       "    <tr>\n",
       "      <td>193081</td>\n",
       "      <td>2015-12-28 23:00:00</td>\n",
       "      <td>-0.079518</td>\n",
       "      <td>-0.175582</td>\n",
       "      <td>0.004836</td>\n",
       "    </tr>\n",
       "    <tr>\n",
       "      <td>193082</td>\n",
       "      <td>2015-12-29 23:00:00</td>\n",
       "      <td>-0.078879</td>\n",
       "      <td>-0.173986</td>\n",
       "      <td>0.010893</td>\n",
       "    </tr>\n",
       "    <tr>\n",
       "      <td>193083</td>\n",
       "      <td>2015-12-30 23:00:00</td>\n",
       "      <td>-0.079638</td>\n",
       "      <td>-0.177150</td>\n",
       "      <td>0.025451</td>\n",
       "    </tr>\n",
       "    <tr>\n",
       "      <td>193084</td>\n",
       "      <td>2015-12-31 23:00:00</td>\n",
       "      <td>-0.079339</td>\n",
       "      <td>-0.176706</td>\n",
       "      <td>0.018411</td>\n",
       "    </tr>\n",
       "  </tbody>\n",
       "</table>\n",
       "</div>"
      ],
      "text/plain": [
       "                        ds      yhat  yhat_lower  yhat_upper\n",
       "193080 2015-12-27 23:00:00 -0.078166   -0.168568    0.014703\n",
       "193081 2015-12-28 23:00:00 -0.079518   -0.175582    0.004836\n",
       "193082 2015-12-29 23:00:00 -0.078879   -0.173986    0.010893\n",
       "193083 2015-12-30 23:00:00 -0.079638   -0.177150    0.025451\n",
       "193084 2015-12-31 23:00:00 -0.079339   -0.176706    0.018411"
      ]
     },
     "execution_count": 33,
     "metadata": {},
     "output_type": "execute_result"
    }
   ],
   "source": [
    "forecast = prophet_model.predict(future)\n",
    "forecast[['ds', 'yhat', 'yhat_lower', 'yhat_upper']].tail()"
   ]
  },
  {
   "cell_type": "code",
   "execution_count": 34,
   "metadata": {},
   "outputs": [],
   "source": [
    "y_train_pred = forecast[:-24*365][['yhat', 'yhat_lower', 'yhat_upper']]\n",
    "y_test_pred = forecast[-24*365:][['yhat', 'yhat_lower', 'yhat_upper']]"
   ]
  },
  {
   "cell_type": "code",
   "execution_count": 35,
   "metadata": {},
   "outputs": [
    {
     "data": {
      "text/plain": [
       "((192720, 2), (184325, 3), (8760, 2), (8760, 3))"
      ]
     },
     "execution_count": 35,
     "metadata": {},
     "output_type": "execute_result"
    }
   ],
   "source": [
    "train_data.shape, y_train_pred.shape, test_data.shape, y_test_pred.shape "
   ]
  },
  {
   "cell_type": "code",
   "execution_count": 36,
   "metadata": {},
   "outputs": [],
   "source": [
    "model_names.extend([\"prophet\", \"prophet_lower\", \"prophet_upper\"])\n",
    "\n",
    "rmse_train.extend([0, 0, 0])\n",
    "\n",
    "rmse_test.append(np.sqrt(mean_squared_error(test_data['y'], y_test_pred['yhat'])))\n",
    "rmse_test.append(np.sqrt(mean_squared_error(test_data['y'], y_test_pred['yhat_lower'])))\n",
    "rmse_test.append(np.sqrt(mean_squared_error(test_data['y'], y_test_pred['yhat_upper'])))"
   ]
  },
  {
   "cell_type": "code",
   "execution_count": 37,
   "metadata": {},
   "outputs": [
    {
     "data": {
      "text/plain": [
       "(22, 22, 22)"
      ]
     },
     "execution_count": 37,
     "metadata": {},
     "output_type": "execute_result"
    }
   ],
   "source": [
    "len(model_names), len(rmse_train), len(rmse_test)"
   ]
  },
  {
   "cell_type": "code",
   "execution_count": 38,
   "metadata": {},
   "outputs": [
    {
     "data": {
      "image/png": "[encoded data removed]",
      "text/plain": [
       "<Figure size 864x720 with 1 Axes>"
      ]
     },
     "metadata": {
      "needs_background": "light"
     },
     "output_type": "display_data"
    }
   ],
   "source": [
    "plot_scores()"
   ]
  },
  {
   "cell_type": "markdown",
   "metadata": {},
   "source": [
    "- An RMSE of 0.05 is quite good compared to values ranging from 0 to 1.\n",
    "- Finally only few models are better than the baseline, but not that better.\n",
    "- Only the linear regression and ridge get better when we deal with months, weeks, days & hours as categorical features with \"get dummies\" pandas method.\n",
    "- Facebook lib's prophet is finally not that effective but the forecast of a whole year is probably a difficult goal.\n",
    "\n",
    "In a new study we'll try to forecast energy efficiency for only a month, which can still be interesting from a business point of view."
   ]
  }
 ],
 "metadata": {
  "kernelspec": {
   "display_name": "Python 3",
   "language": "python",
   "name": "python3"
  },
  "language_info": {
   "codemirror_mode": {
    "name": "ipython",
    "version": 3
   },
   "file_extension": ".py",
   "mimetype": "text/x-python",
   "name": "python",
   "nbconvert_exporter": "python",
   "pygments_lexer": "ipython3",
   "version": "3.7.4"
  }
 },
 "nbformat": 4,
 "nbformat_minor": 2
}
