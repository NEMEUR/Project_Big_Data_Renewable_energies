{
 "cells": [
  {
   "cell_type": "code",
   "execution_count": 1,
   "metadata": {},
   "outputs": [],
   "source": [
    "from pyspark.sql import SparkSession\n",
    "spark = SparkSession.builder.appName('Basics').getOrCreate()"
   ]
  },
  {
   "cell_type": "code",
   "execution_count": 2,
   "metadata": {},
   "outputs": [],
   "source": [
    "df = spark.read.csv('data+year+week.csv', sep=\";\", inferSchema=\"true\", header=\"true\")"
   ]
  },
  {
   "cell_type": "code",
   "execution_count": 3,
   "metadata": {},
   "outputs": [],
   "source": [
    "df2 = spark.read.csv('Final-Data2.csv', sep=\";\", inferSchema=\"true\", header=\"true\")"
   ]
  },
  {
   "cell_type": "code",
   "execution_count": 4,
   "metadata": {},
   "outputs": [
    {
     "name": "stdout",
     "output_type": "stream",
     "text": [
      "root\n",
      " |-- year: integer (nullable = true)\n",
      " |-- week: integer (nullable = true)\n",
      " |-- trends: integer (nullable = true)\n",
      " |-- Tweets: integer (nullable = true)\n",
      " |-- temp_min: double (nullable = true)\n",
      " |-- temp_max: double (nullable = true)\n",
      " |-- wind: double (nullable = true)\n",
      " |-- wind_temp: double (nullable = true)\n",
      " |-- Precip: double (nullable = true)\n",
      " |-- humidity: double (nullable = true)\n",
      " |-- rhume: integer (nullable = true)\n",
      " |-- inc: integer (nullable = true)\n",
      "\n"
     ]
    }
   ],
   "source": [
    "df.printSchema()"
   ]
  },
  {
   "cell_type": "code",
   "execution_count": 5,
   "metadata": {},
   "outputs": [
    {
     "name": "stdout",
     "output_type": "stream",
     "text": [
      "root\n",
      " |-- week: integer (nullable = true)\n",
      " |-- trends: integer (nullable = true)\n",
      " |-- Tweets: integer (nullable = true)\n",
      " |-- temp_min: double (nullable = true)\n",
      " |-- temp_max: double (nullable = true)\n",
      " |-- wind: double (nullable = true)\n",
      " |-- wind_temp: double (nullable = true)\n",
      " |-- Precip: double (nullable = true)\n",
      " |-- humidity: double (nullable = true)\n",
      " |-- rhume: integer (nullable = true)\n",
      " |-- inc: integer (nullable = true)\n",
      "\n"
     ]
    }
   ],
   "source": [
    "df2.printSchema()"
   ]
  },
  {
   "cell_type": "code",
   "execution_count": 10,
   "metadata": {},
   "outputs": [],
   "source": [
    "df.createOrReplaceTempView('stinkywind')"
   ]
  },
  {
   "cell_type": "code",
   "execution_count": 11,
   "metadata": {},
   "outputs": [],
   "source": [
    "df2.createOrReplaceTempView('freshwind')"
   ]
  },
  {
   "cell_type": "code",
   "execution_count": 13,
   "metadata": {},
   "outputs": [
    {
     "name": "stdout",
     "output_type": "stream",
     "text": [
      "+----+-----+\n",
      "|year|rhume|\n",
      "+----+-----+\n",
      "|2010|   68|\n",
      "|2010|   51|\n",
      "|2010|   55|\n",
      "|2010|   77|\n",
      "|2010|   73|\n",
      "|2010|   67|\n",
      "|2010|   63|\n",
      "|2010|   62|\n",
      "|2010|   49|\n",
      "|2010|   50|\n",
      "|2010|   60|\n",
      "|2010|   51|\n",
      "|2010|   42|\n",
      "|2010|   50|\n",
      "|2010|   44|\n",
      "|2010|   46|\n",
      "|2010|   28|\n",
      "|2010|   45|\n",
      "|2010|   46|\n",
      "|2010|   54|\n",
      "+----+-----+\n",
      "only showing top 20 rows\n",
      "\n"
     ]
    }
   ],
   "source": [
    "results= spark.sql(\"select year, rhume from stinkywind freshwind\").show()"
   ]
  },
  {
   "cell_type": "code",
   "execution_count": null,
   "metadata": {},
   "outputs": [],
   "source": []
  }
 ],
 "metadata": {
  "kernelspec": {
   "display_name": "Python 3",
   "language": "python",
   "name": "python3"
  },
  "language_info": {
   "codemirror_mode": {
    "name": "ipython",
    "version": 3
   },
   "file_extension": ".py",
   "mimetype": "text/x-python",
   "name": "python",
   "nbconvert_exporter": "python",
   "pygments_lexer": "ipython3",
   "version": "3.7.3"
  }
 },
 "nbformat": 4,
 "nbformat_minor": 2
}
